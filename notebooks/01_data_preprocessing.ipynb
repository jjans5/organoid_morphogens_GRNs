{
 "cells": [
  {
   "cell_type": "markdown",
   "id": "e3d94f15",
   "metadata": {},
   "source": [
    "# Data Preprocessing for Organoid pySCENIC Analysis\n",
    "\n",
    "This notebook prepares single-cell RNA-seq data from organoids for pySCENIC gene regulatory network inference.\n",
    "\n",
    "## Overview\n",
    "\n",
    "The preprocessing steps include:\n",
    "1. Data loading and quality control\n",
    "2. Cell type filtering and annotation validation\n",
    "3. Data splitting by cell line\n",
    "4. Export for pySCENIC analysis\n",
    "\n",
    "## Input Data\n",
    "\n",
    "- Single-cell count matrix in H5AD format\n",
    "- Cell metadata including:\n",
    "  - Cell line information\n",
    "  - Morphogen treatment conditions\n",
    "  - Time points\n",
    "  - Cell type annotations"
   ]
  },
  {
   "cell_type": "code",
   "execution_count": null,
   "id": "45c6af78",
   "metadata": {},
   "outputs": [],
   "source": [
    "# Import required libraries\n",
    "import pandas as pd\n",
    "import scanpy as sc\n",
    "import numpy as np\n",
    "import matplotlib.pyplot as plt\n",
    "import seaborn as sns\n",
    "import os\n",
    "from pathlib import Path\n",
    "\n",
    "# Set up scanpy settings\n",
    "sc.settings.verbosity = 3  # verbosity level\n",
    "sc.settings.set_figure_params(dpi=80, facecolor='white')\n",
    "\n",
    "# Set up plotting\n",
    "plt.style.use('default')\n",
    "sns.set_palette(\"husl\")\n",
    "\n",
    "print(\"Libraries imported successfully\")"
   ]
  },
  {
   "cell_type": "markdown",
   "id": "90097490",
   "metadata": {},
   "source": [
    "## 1. Load Input Data"
   ]
  },
  {
   "cell_type": "code",
   "execution_count": null,
   "id": "d5ace49e",
   "metadata": {},
   "outputs": [],
   "source": [
    "# Define paths\n",
    "data_dir = Path('../data')\n",
    "input_file = data_dir / 'exp1_counts_for_scenic.h5ad'\n",
    "\n",
    "# Load data\n",
    "print(f\"Loading data from: {input_file}\")\n",
    "adata = sc.read_h5ad(input_file)\n",
    "\n",
    "print(f\"Data shape: {adata.shape}\")\n",
    "print(f\"Number of cells: {adata.n_obs}\")\n",
    "print(f\"Number of genes: {adata.n_vars}\")"
   ]
  },
  {
   "cell_type": "code",
   "execution_count": null,
   "id": "69ef4e4f",
   "metadata": {},
   "outputs": [],
   "source": [
    "# Examine metadata\n",
    "print(\"Available metadata columns:\")\n",
    "print(adata.obs.columns.tolist())\n",
    "\n",
    "print(\"\\nFirst few rows of metadata:\")\n",
    "adata.obs.head()"
   ]
  },
  {
   "cell_type": "markdown",
   "id": "43d54bf6",
   "metadata": {},
   "source": [
    "## 2. Quality Control and Filtering"
   ]
  },
  {
   "cell_type": "code",
   "execution_count": null,
   "id": "8453ec1c",
   "metadata": {},
   "outputs": [],
   "source": [
    "# Check cell line distribution\n",
    "print(\"Cell line distribution:\")\n",
    "print(adata.obs['cell_line'].value_counts())\n",
    "\n",
    "# Visualize cell line distribution\n",
    "plt.figure(figsize=(10, 6))\n",
    "cell_line_counts = adata.obs['cell_line'].value_counts()\n",
    "plt.bar(cell_line_counts.index, cell_line_counts.values)\n",
    "plt.xlabel('Cell Line')\n",
    "plt.ylabel('Number of Cells')\n",
    "plt.title('Cell Distribution by Cell Line')\n",
    "plt.xticks(rotation=45)\n",
    "plt.tight_layout()\n",
    "plt.show()"
   ]
  },
  {
   "cell_type": "code",
   "execution_count": null,
   "id": "87c536f5",
   "metadata": {},
   "outputs": [],
   "source": [
    "# Filter to specific cell lines of interest\n",
    "cell_lines_of_interest = ['H1', 'WTC', 'H9', 'WIBJ2']\n",
    "\n",
    "print(f\"Filtering to cell lines: {cell_lines_of_interest}\")\n",
    "adata_filtered = adata[adata.obs.cell_line.isin(cell_lines_of_interest)].copy()\n",
    "\n",
    "print(f\"Filtered data shape: {adata_filtered.shape}\")\n",
    "print(f\"Cells removed: {adata.n_obs - adata_filtered.n_obs}\")"
   ]
  },
  {
   "cell_type": "code",
   "execution_count": null,
   "id": "34304d61",
   "metadata": {},
   "outputs": [],
   "source": [
    "# Check cell type annotations\n",
    "if 'fullname_v4' in adata_filtered.obs.columns:\n",
    "    print(\"Cell type distribution:\")\n",
    "    print(adata_filtered.obs['fullname_v4'].value_counts())\n",
    "    \n",
    "    # Remove non-neurectodermal tissues if present\n",
    "    if 'Non-neurectodermal tissues' in adata_filtered.obs['fullname_v4'].values:\n",
    "        print(\"\\nRemoving non-neurectodermal tissues...\")\n",
    "        adata_filtered = adata_filtered[adata_filtered.obs.fullname_v4 != 'Non-neurectodermal tissues'].copy()\n",
    "        print(f\"Data shape after filtering: {adata_filtered.shape}\")"
   ]
  },
  {
   "cell_type": "code",
   "execution_count": null,
   "id": "23c6d956",
   "metadata": {},
   "outputs": [],
   "source": [
    "# Check for morphogen treatment information\n",
    "morphogen_columns = ['FGF8', 'SHH', 'CHIR', 'RA']\n",
    "available_morphogens = [col for col in morphogen_columns if col in adata_filtered.obs.columns]\n",
    "\n",
    "print(f\"Available morphogen columns: {available_morphogens}\")\n",
    "\n",
    "if available_morphogens:\n",
    "    print(\"\\nMorphogen treatment distribution:\")\n",
    "    for morphogen in available_morphogens:\n",
    "        print(f\"{morphogen}: {adata_filtered.obs[morphogen].value_counts().to_dict()}\")"
   ]
  },
  {
   "cell_type": "code",
   "execution_count": null,
   "id": "7cf96427",
   "metadata": {},
   "outputs": [],
   "source": [
    "# Check time point information\n",
    "if 'Time' in adata_filtered.obs.columns:\n",
    "    print(\"Time point distribution:\")\n",
    "    print(adata_filtered.obs['Time'].value_counts())\n",
    "    \n",
    "    # Visualize time point distribution\n",
    "    plt.figure(figsize=(8, 5))\n",
    "    time_counts = adata_filtered.obs['Time'].value_counts()\n",
    "    plt.bar(time_counts.index, time_counts.values)\n",
    "    plt.xlabel('Time Point')\n",
    "    plt.ylabel('Number of Cells')\n",
    "    plt.title('Cell Distribution by Time Point')\n",
    "    plt.tight_layout()\n",
    "    plt.show()"
   ]
  },
  {
   "cell_type": "markdown",
   "id": "3bd9789f",
   "metadata": {},
   "source": [
    "## 3. Data Exploration and Visualization"
   ]
  },
  {
   "cell_type": "code",
   "execution_count": null,
   "id": "35320478",
   "metadata": {},
   "outputs": [],
   "source": [
    "# Basic statistics\n",
    "print(\"Data statistics:\")\n",
    "print(f\"Total genes: {adata_filtered.n_vars}\")\n",
    "print(f\"Total cells: {adata_filtered.n_obs}\")\n",
    "print(f\"Mean genes per cell: {adata_filtered.X.sum(axis=1).mean():.1f}\")\n",
    "print(f\"Mean UMI per cell: {(adata_filtered.X > 0).sum(axis=1).mean():.1f}\")"
   ]
  },
  {
   "cell_type": "code",
   "execution_count": null,
   "id": "e73da77c",
   "metadata": {},
   "outputs": [],
   "source": [
    "# Create a comprehensive metadata summary\n",
    "summary_stats = []\n",
    "\n",
    "for cell_line in cell_lines_of_interest:\n",
    "    cl_data = adata_filtered[adata_filtered.obs['cell_line'] == cell_line]\n",
    "    \n",
    "    stats = {\n",
    "        'cell_line': cell_line,\n",
    "        'n_cells': cl_data.n_obs,\n",
    "        'mean_genes_per_cell': cl_data.X.sum(axis=1).mean(),\n",
    "        'mean_umi_per_cell': (cl_data.X > 0).sum(axis=1).mean()\n",
    "    }\n",
    "    \n",
    "    # Add time point information if available\n",
    "    if 'Time' in cl_data.obs.columns:\n",
    "        for time_point in cl_data.obs['Time'].unique():\n",
    "            n_cells_time = len(cl_data[cl_data.obs['Time'] == time_point])\n",
    "            stats[f'n_cells_{time_point}'] = n_cells_time\n",
    "    \n",
    "    summary_stats.append(stats)\n",
    "\n",
    "summary_df = pd.DataFrame(summary_stats)\n",
    "print(\"Summary statistics by cell line:\")\n",
    "summary_df"
   ]
  },
  {
   "cell_type": "markdown",
   "id": "d4cad9bc",
   "metadata": {},
   "source": [
    "## 4. Prepare Data for pySCENIC"
   ]
  },
  {
   "cell_type": "code",
   "execution_count": null,
   "id": "37ce344c",
   "metadata": {},
   "outputs": [],
   "source": [
    "# Check clustering information for subsampling\n",
    "clustering_columns = [col for col in adata_filtered.obs.columns if 'res' in col or 'cluster' in col.lower()]\n",
    "print(f\"Available clustering columns: {clustering_columns}\")\n",
    "\n",
    "if clustering_columns:\n",
    "    # Use the first available clustering column\n",
    "    cluster_col = clustering_columns[0]\n",
    "    print(f\"\\nUsing clustering column: {cluster_col}\")\n",
    "    print(f\"Number of clusters: {len(adata_filtered.obs[cluster_col].unique())}\")\n",
    "    print(\"Cluster distribution:\")\n",
    "    print(adata_filtered.obs[cluster_col].value_counts().sort_index())"
   ]
  },
  {
   "cell_type": "code",
   "execution_count": null,
   "id": "e052ec98",
   "metadata": {},
   "outputs": [],
   "source": [
    "# Visualize cluster and cell line distribution\n",
    "if clustering_columns:\n",
    "    cluster_col = clustering_columns[0]\n",
    "    \n",
    "    plt.figure(figsize=(12, 6))\n",
    "    \n",
    "    # Cross-tabulation\n",
    "    crosstab = pd.crosstab(adata_filtered.obs[cluster_col], adata_filtered.obs['cell_line'])\n",
    "    \n",
    "    plt.subplot(1, 2, 1)\n",
    "    sns.heatmap(crosstab, annot=True, fmt='d', cmap='Blues')\n",
    "    plt.title('Cells per Cluster and Cell Line')\n",
    "    plt.xlabel('Cell Line')\n",
    "    plt.ylabel('Cluster')\n",
    "    \n",
    "    # Proportional view\n",
    "    plt.subplot(1, 2, 2)\n",
    "    crosstab_prop = crosstab.div(crosstab.sum(axis=1), axis=0)\n",
    "    sns.heatmap(crosstab_prop, annot=True, fmt='.2f', cmap='Blues', vmin=0, vmax=1)\n",
    "    plt.title('Proportion of Cell Lines per Cluster')\n",
    "    plt.xlabel('Cell Line')\n",
    "    plt.ylabel('Cluster')\n",
    "    \n",
    "    plt.tight_layout()\n",
    "    plt.show()"
   ]
  },
  {
   "cell_type": "markdown",
   "id": "529620e3",
   "metadata": {},
   "source": [
    "## 5. Export Data"
   ]
  },
  {
   "cell_type": "code",
   "execution_count": null,
   "id": "fb51e2eb",
   "metadata": {},
   "outputs": [],
   "source": [
    "# Save the filtered combined dataset\n",
    "output_file = data_dir / 'exp1_counts_for_scenic_filtered.h5ad'\n",
    "print(f\"Saving filtered dataset to: {output_file}\")\n",
    "adata_filtered.write_h5ad(output_file)\n",
    "\n",
    "print(f\"Saved dataset with shape: {adata_filtered.shape}\")"
   ]
  },
  {
   "cell_type": "code",
   "execution_count": null,
   "id": "be8f7ace",
   "metadata": {},
   "outputs": [],
   "source": [
    "# Split data by cell line and save separately\n",
    "print(\"Splitting data by cell line...\")\n",
    "\n",
    "for cell_line in cell_lines_of_interest:\n",
    "    adata_cellline = adata_filtered[adata_filtered.obs['cell_line'] == cell_line].copy()\n",
    "    \n",
    "    output_file_cl = data_dir / f'exp1_counts_for_scenic_{cell_line}.h5ad'\n",
    "    adata_cellline.write_h5ad(output_file_cl)\n",
    "    \n",
    "    print(f\"Saved {cell_line}: {adata_cellline.shape} -> {output_file_cl}\")"
   ]
  },
  {
   "cell_type": "markdown",
   "id": "32a9f5ca",
   "metadata": {},
   "source": [
    "## 6. Generate Processing Summary Report"
   ]
  },
  {
   "cell_type": "code",
   "execution_count": null,
   "id": "90e89ef1",
   "metadata": {},
   "outputs": [],
   "source": [
    "# Create a processing summary\n",
    "processing_summary = {\n",
    "    'original_data_shape': adata.shape,\n",
    "    'filtered_data_shape': adata_filtered.shape,\n",
    "    'cells_removed': adata.n_obs - adata_filtered.n_obs,\n",
    "    'cell_lines_included': cell_lines_of_interest,\n",
    "    'available_morphogens': available_morphogens,\n",
    "    'clustering_column': clustering_columns[0] if clustering_columns else None,\n",
    "    'output_files': {\n",
    "        'combined': 'exp1_counts_for_scenic_filtered.h5ad',\n",
    "        'by_cell_line': [f'exp1_counts_for_scenic_{cl}.h5ad' for cl in cell_lines_of_interest]\n",
    "    }\n",
    "}\n",
    "\n",
    "print(\"Processing Summary:\")\n",
    "print(\"=\" * 50)\n",
    "for key, value in processing_summary.items():\n",
    "    print(f\"{key}: {value}\")\n",
    "\n",
    "# Save summary to file\n",
    "import json\n",
    "summary_file = data_dir / 'preprocessing_summary.json'\n",
    "with open(summary_file, 'w') as f:\n",
    "    json.dump(processing_summary, f, indent=2, default=str)\n",
    "\n",
    "print(f\"\\nSummary saved to: {summary_file}\")"
   ]
  },
  {
   "cell_type": "markdown",
   "id": "ec6ac0a9",
   "metadata": {},
   "source": [
    "## Summary\n",
    "\n",
    "This notebook has successfully:\n",
    "\n",
    "1. ✅ Loaded the original single-cell dataset\n",
    "2. ✅ Filtered to cell lines of interest (H1, H9, WTC, WIBJ2)\n",
    "3. ✅ Removed non-neurectodermal tissues\n",
    "4. ✅ Validated morphogen treatment and time point information\n",
    "5. ✅ Explored data distribution across cell lines and clusters\n",
    "6. ✅ Exported filtered data for pySCENIC analysis\n",
    "7. ✅ Generated data split by cell line\n",
    "8. ✅ Created processing summary report\n",
    "\n",
    "## Next Steps\n",
    "\n",
    "The preprocessed data is now ready for:\n",
    "- pySCENIC gene regulatory network inference\n",
    "- Consensus regulon building across multiple runs\n",
    "- Morphogen correlation analysis\n",
    "\n",
    "Proceed to the next notebook: `02_pyscenic_consensus.ipynb`"
   ]
  }
 ],
 "metadata": {
  "language_info": {
   "name": "python"
  }
 },
 "nbformat": 4,
 "nbformat_minor": 5
}
